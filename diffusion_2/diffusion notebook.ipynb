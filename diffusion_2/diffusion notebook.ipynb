{
 "cells": [
  {
   "cell_type": "code",
   "execution_count": 1,
   "metadata": {},
   "outputs": [],
   "source": [
    "import os\n",
    "import torch\n",
    "import torchvision\n",
    "import torch.optim as optim\n",
    "from torch.utils.data import Dataset, DataLoader\n",
    "from torchvision import datasets, transforms\n",
    "from torchvision.utils import save_image\n",
    "from tqdm import tqdm\n",
    "\n",
    "from model import UNet\n",
    "from diffusion_discrete import DiscreteDiffusion, generate_betas"
   ]
  },
  {
   "cell_type": "code",
   "execution_count": 2,
   "metadata": {},
   "outputs": [
    {
     "name": "stdout",
     "output_type": "stream",
     "text": [
      "device: cpu\n"
     ]
    }
   ],
   "source": [
    "gpu = torch.cuda.is_available()\n",
    "device = torch.device(\"cuda:0\" if gpu else \"cpu\")\n",
    "print(\"device:\", device)"
   ]
  },
  {
   "cell_type": "code",
   "execution_count": 3,
   "metadata": {},
   "outputs": [],
   "source": [
    "torch.manual_seed(50)\n",
    "\n",
    "# training parameters\n",
    "num_epochs = 10\n",
    "batch_size = 128\n",
    "lr = 2e-4\n",
    "model = UNet(image_channels=1)\n",
    "optimizer = optim.Adam(model.parameters(), lr=lr)"
   ]
  },
  {
   "cell_type": "code",
   "execution_count": 4,
   "metadata": {},
   "outputs": [],
   "source": [
    "# change image size from 28 to 32 so that it is power of 2\n",
    "img_size = 32\n",
    "\n",
    "transform = transforms.Compose([\n",
    "    transforms.Resize(img_size),\n",
    "    transforms.ToTensor(),\n",
    "])\n",
    "\n",
    "trainset = datasets.MNIST(root='./data', train=True, download=True, transform=transform)\n",
    "train_loader = DataLoader(trainset, batch_size=batch_size, shuffle=True)"
   ]
  },
  {
   "cell_type": "code",
   "execution_count": 5,
   "metadata": {},
   "outputs": [],
   "source": [
    "betas = generate_betas(type='cosine', start=0.02, stop=1., num_steps=1000)"
   ]
  },
  {
   "cell_type": "code",
   "execution_count": 6,
   "metadata": {},
   "outputs": [
    {
     "name": "stderr",
     "output_type": "stream",
     "text": [
      "/Users/madsfrandsen/Documents/BSc_project/diffusion_2/diffusion_discrete.py:52: UserWarning: To copy construct from a tensor, it is recommended to use sourceTensor.clone().detach() or sourceTensor.clone().detach().requires_grad_(True), rather than torch.tensor(sourceTensor).\n",
      "  self.betas = betas = torch.tensor(betas, dtype=torch.float64)\n"
     ]
    }
   ],
   "source": [
    "diffusion = DiscreteDiffusion(betas=betas, transition_mat_type='uniform',\n",
    "                              num_bits=8, transition_bands=None, model_prediction='x_start',\n",
    "                              model_output='logistic_pars', loss_type='hybrid',\n",
    "                              hybrid_coeff=0.001)"
   ]
  },
  {
   "cell_type": "code",
   "execution_count": 8,
   "metadata": {},
   "outputs": [
    {
     "name": "stderr",
     "output_type": "stream",
     "text": [
      "  0%|          | 0/469 [00:00<?, ?it/s]/Users/madsfrandsen/Documents/BSc_project/diffusion_2/utils.py:89: UserWarning: Implicit dimension choice for log_softmax has been deprecated. Change the call to include dim=X as an argument.\n",
      "  log_probs = F.log_softmax(logits)\n",
      "  0%|          | 2/469 [04:32<17:40:50, 136.30s/it]\n"
     ]
    },
    {
     "ename": "KeyboardInterrupt",
     "evalue": "",
     "output_type": "error",
     "traceback": [
      "\u001b[0;31m---------------------------------------------------------------------------\u001b[0m",
      "\u001b[0;31mKeyboardInterrupt\u001b[0m                         Traceback (most recent call last)",
      "Cell \u001b[0;32mIn[8], line 8\u001b[0m\n\u001b[1;32m      6\u001b[0m x \u001b[38;5;241m=\u001b[39m x\u001b[38;5;241m.\u001b[39mint()\u001b[38;5;241m.\u001b[39mto(device)\n\u001b[1;32m      7\u001b[0m optimizer\u001b[38;5;241m.\u001b[39mzero_grad()\n\u001b[0;32m----> 8\u001b[0m l \u001b[38;5;241m=\u001b[39m \u001b[43mdiffusion\u001b[49m\u001b[38;5;241;43m.\u001b[39;49m\u001b[43mtraining_losses\u001b[49m\u001b[43m(\u001b[49m\u001b[43mmodel\u001b[49m\u001b[43m,\u001b[49m\u001b[43m \u001b[49m\u001b[43mx_start\u001b[49m\u001b[38;5;241;43m=\u001b[39;49m\u001b[43mx\u001b[49m\u001b[43m,\u001b[49m\u001b[43m \u001b[49m\u001b[43mrng\u001b[49m\u001b[38;5;241;43m=\u001b[39;49m\u001b[38;5;241;43m25\u001b[39;49m\u001b[43m)\u001b[49m\u001b[38;5;241m.\u001b[39mmean()\n\u001b[1;32m      9\u001b[0m l\u001b[38;5;241m.\u001b[39mbackward()\n\u001b[1;32m     10\u001b[0m train_loss \u001b[38;5;241m+\u001b[39m\u001b[38;5;241m=\u001b[39m l\u001b[38;5;241m.\u001b[39mitem()\n",
      "File \u001b[0;32m~/Documents/BSc_project/diffusion_2/diffusion_discrete.py:523\u001b[0m, in \u001b[0;36mtraining_losses\u001b[0;34m(self, model_fn, x_start, rng)\u001b[0m\n\u001b[1;32m    520\u001b[0m \u001b[38;5;28;01melse\u001b[39;00m:\n\u001b[1;32m    521\u001b[0m     \u001b[38;5;28;01mraise\u001b[39;00m \u001b[38;5;167;01mNotImplementedError\u001b[39;00m(\u001b[38;5;28mself\u001b[39m\u001b[38;5;241m.\u001b[39mloss_type)\n\u001b[0;32m--> 523\u001b[0m \u001b[38;5;28;01massert\u001b[39;00m losses\u001b[38;5;241m.\u001b[39mshape \u001b[38;5;241m==\u001b[39m t\u001b[38;5;241m.\u001b[39mshape\n\u001b[1;32m    524\u001b[0m \u001b[38;5;28;01mreturn\u001b[39;00m losses\n",
      "File \u001b[0;32m~/Documents/BSc_project/diffusion_2/diffusion_discrete.py:425\u001b[0m, in \u001b[0;36mvb_terms_bpd\u001b[0;34m(self, model_fn, x_start, x_t, t)\u001b[0m\n\u001b[1;32m      0\u001b[0m <Error retrieving source code with stack_data see ipython/ipython#13598>\n",
      "File \u001b[0;32m~/Documents/BSc_project/diffusion_2/diffusion_discrete.py:297\u001b[0m, in \u001b[0;36mp_logits\u001b[0;34m(self, model_fn, x, t)\u001b[0m\n\u001b[1;32m    293\u001b[0m else:\n\u001b[1;32m    294\u001b[0m     raise NotImplementedError(self.model_output)\n\u001b[1;32m    296\u001b[0m if self.model_prediction == 'x_start':\n\u001b[0;32m--> 297\u001b[0m      # Predict the logits of p(x_{t-1}|x_t) by parameterizing this distribution\n\u001b[1;32m    298\u001b[0m     # as ~ sum_{pred_x_start} q(x_{t-1}, x_t |pred_x_start)p(pred_x_start|x_t)\n\u001b[1;32m    299\u001b[0m     pred_x_start_logits = model_logits\n\u001b[1;32m    301\u001b[0m     # t_broadcast = t.unsqueeze(1).expand(-1, *model_logits.shape[1:])\n",
      "File \u001b[0;32m~/Documents/BSc_project/diffusion_2/diffusion_discrete.py:249\u001b[0m, in \u001b[0;36m_get_logits_from_logistic_pars\u001b[0;34m(self, loc, log_scale)\u001b[0m\n\u001b[1;32m    244\u001b[0m log_cdf_min \u001b[38;5;241m=\u001b[39m F\u001b[38;5;241m.\u001b[39mlogsigmoid(\n\u001b[1;32m    245\u001b[0m     inv_scale \u001b[38;5;241m*\u001b[39m (bin_centers \u001b[38;5;241m-\u001b[39m \u001b[38;5;241m0.5\u001b[39m \u001b[38;5;241m*\u001b[39m bin_width))\n\u001b[1;32m    246\u001b[0m log_cdf_plus \u001b[38;5;241m=\u001b[39m F\u001b[38;5;241m.\u001b[39mlogsigmoid(\n\u001b[1;32m    247\u001b[0m     inv_scale \u001b[38;5;241m*\u001b[39m (bin_centers \u001b[38;5;241m+\u001b[39m \u001b[38;5;241m0.5\u001b[39m \u001b[38;5;241m*\u001b[39m bin_width))\n\u001b[0;32m--> 249\u001b[0m logits \u001b[38;5;241m=\u001b[39m utils\u001b[38;5;241m.\u001b[39mlog_min_exp(log_cdf_plus, log_cdf_min, \u001b[38;5;28mself\u001b[39m\u001b[38;5;241m.\u001b[39meps)\n\u001b[1;32m    250\u001b[0m \u001b[38;5;28;01mreturn\u001b[39;00m logits\n",
      "\u001b[0;31mKeyboardInterrupt\u001b[0m: "
     ]
    }
   ],
   "source": [
    "model.train()\n",
    "for e in range(1, num_epochs+1):\n",
    "    train_loss = 0\n",
    "    train_loss_vals = []\n",
    "    train_prior_bpd = 0\n",
    "    for batch_idx, (x, _) in tqdm(enumerate(train_loader), total=len(train_loader)):\n",
    "        x = x.int().to(device)\n",
    "        optimizer.zero_grad()\n",
    "        \n",
    "        loss = diffusion.training_losses(model, x_start=x, rng=25).mean()\n",
    "        prior_bpd = diffusion.prior_bpd(x).mean()\n",
    "\n",
    "        loss.backward()\n",
    "        train_loss += loss.item()\n",
    "        train_prior_bpd += prior_bpd\n",
    "        train_loss_vals.append(train_loss)\n",
    "        optimizer.step()\n",
    "        \n",
    "\n",
    "    print(\"t\\Epoch,\", e, \"complete!\", \"\\tLoss: \", train_loss / batch_idx,\n",
    "          \"\\tPrior bpd: \", train_prior_bpd / batch_idx)\n",
    "        "
   ]
  },
  {
   "cell_type": "code",
   "execution_count": null,
   "metadata": {},
   "outputs": [],
   "source": []
  }
 ],
 "metadata": {
  "kernelspec": {
   "display_name": "venv",
   "language": "python",
   "name": "python3"
  },
  "language_info": {
   "codemirror_mode": {
    "name": "ipython",
    "version": 3
   },
   "file_extension": ".py",
   "mimetype": "text/x-python",
   "name": "python",
   "nbconvert_exporter": "python",
   "pygments_lexer": "ipython3",
   "version": "3.10.7"
  }
 },
 "nbformat": 4,
 "nbformat_minor": 2
}
