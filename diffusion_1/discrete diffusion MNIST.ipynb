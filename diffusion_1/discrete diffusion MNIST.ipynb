{
 "cells": [
  {
   "cell_type": "code",
   "execution_count": 1,
   "metadata": {},
   "outputs": [],
   "source": [
    "import os\n",
    "import sys\n",
    "import torch\n",
    "from torch.utils.data import DataLoader\n",
    "import lightning.pytorch as pl\n",
    "\n",
    "from dataset_discretize import DiscretizeD3PMNIST\n",
    "from D3PM import D3PMTrainer"
   ]
  },
  {
   "cell_type": "code",
   "execution_count": 2,
   "metadata": {},
   "outputs": [],
   "source": [
    "num_bins = 2\n",
    "time_steps = 1000"
   ]
  },
  {
   "cell_type": "code",
   "execution_count": 3,
   "metadata": {},
   "outputs": [],
   "source": [
    "current_directory = os.getcwd()\n",
    "final_directory = os.path.join(current_directory, r'images')\n",
    "if not os.path.exists(final_directory):\n",
    "   os.makedirs(final_directory)"
   ]
  },
  {
   "cell_type": "code",
   "execution_count": 4,
   "metadata": {},
   "outputs": [],
   "source": [
    "dataset = DiscretizeD3PMNIST(num_bins=num_bins, time_steps=time_steps)"
   ]
  },
  {
   "cell_type": "code",
   "execution_count": 5,
   "metadata": {},
   "outputs": [],
   "source": [
    "loader = DataLoader(dataset, batch_size=128, num_workers=2, shuffle=True)"
   ]
  },
  {
   "cell_type": "code",
   "execution_count": 6,
   "metadata": {},
   "outputs": [
    {
     "name": "stderr",
     "output_type": "stream",
     "text": [
      "/Users/madsfrandsen/Documents/BSc_project/D3PM.py:16: UserWarning: nn.init.xavier_uniform is now deprecated in favor of nn.init.xavier_uniform_.\n",
      "  torch.nn.init.xavier_uniform(m.weight)\n"
     ]
    }
   ],
   "source": [
    "model = D3PMTrainer(hidden_dim=16, num_bins=num_bins, time_steps=time_steps)"
   ]
  },
  {
   "cell_type": "code",
   "execution_count": 7,
   "metadata": {},
   "outputs": [
    {
     "name": "stderr",
     "output_type": "stream",
     "text": [
      "GPU available: False, used: False\n",
      "TPU available: False, using: 0 TPU cores\n",
      "IPU available: False, using: 0 IPUs\n",
      "HPU available: False, using: 0 HPUs\n",
      "/Users/madsfrandsen/Documents/MLA/venv/lib/python3.9/site-packages/lightning/pytorch/trainer/connectors/logger_connector/logger_connector.py:75: Starting from v1.9.0, `tensorboardX` has been removed as a dependency of the `lightning.pytorch` package, due to potential conflicts with other packages in the ML ecosystem. For this reason, `logger=True` will use `CSVLogger` as the default logger, unless the `tensorboard` or `tensorboardX` packages are found. Please `pip install lightning[extra]` or one of them to enable TensorBoard support by default\n"
     ]
    }
   ],
   "source": [
    "trainer = pl.Trainer(\n",
    "    max_epochs=10,\n",
    "    limit_train_batches=0.0005,\n",
    "    gradient_clip_val=1.0\n",
    ")"
   ]
  },
  {
   "cell_type": "code",
   "execution_count": 8,
   "metadata": {},
   "outputs": [
    {
     "name": "stderr",
     "output_type": "stream",
     "text": [
      "\n",
      "  | Name  | Type             | Params\n",
      "-------------------------------------------\n",
      "0 | model | ContextUnet      | 128 K \n",
      "1 | loss  | CrossEntropyLoss | 0     \n",
      "-------------------------------------------\n",
      "128 K     Trainable params\n",
      "0         Non-trainable params\n",
      "128 K     Total params\n",
      "0.512     Total estimated model params size (MB)\n"
     ]
    },
    {
     "name": "stderr",
     "output_type": "stream",
     "text": [
      "/Users/madsfrandsen/Documents/MLA/venv/lib/python3.9/site-packages/lightning/pytorch/trainer/connectors/data_connector.py:436: Consider setting `persistent_workers=True` in 'train_dataloader' to speed up the dataloader worker initialization.\n",
      "/Users/madsfrandsen/Documents/BSc_project/dataset_discretize.py:67: UserWarning: To copy construct from a tensor, it is recommended to use sourceTensor.clone().detach() or sourceTensor.clone().detach().requires_grad_(True), rather than torch.tensor(sourceTensor).\n",
      "  tmp_transition = torch.tensor(self.cumulated_transition[idx_step, :, :])\n",
      "/Users/madsfrandsen/Documents/BSc_project/dataset_discretize.py:67: UserWarning: To copy construct from a tensor, it is recommended to use sourceTensor.clone().detach() or sourceTensor.clone().detach().requires_grad_(True), rather than torch.tensor(sourceTensor).\n",
      "  tmp_transition = torch.tensor(self.cumulated_transition[idx_step, :, :])\n",
      "/Users/madsfrandsen/Documents/BSc_project/dataset_discretize.py:68: UserWarning: To copy construct from a tensor, it is recommended to use sourceTensor.clone().detach() or sourceTensor.clone().detach().requires_grad_(True), rather than torch.tensor(sourceTensor).\n",
      "  tmp_transition_next = torch.tensor(\n",
      "/Users/madsfrandsen/Documents/BSc_project/dataset_discretize.py:68: UserWarning: To copy construct from a tensor, it is recommended to use sourceTensor.clone().detach() or sourceTensor.clone().detach().requires_grad_(True), rather than torch.tensor(sourceTensor).\n",
      "  tmp_transition_next = torch.tensor(\n"
     ]
    },
    {
     "data": {
      "application/vnd.jupyter.widget-view+json": {
       "model_id": "1ba90f4cae294cfcbd0836ed8a55e56f",
       "version_major": 2,
       "version_minor": 0
      },
      "text/plain": [
       "Training: |          | 0/? [00:03<?, ?it/s]"
      ]
     },
     "metadata": {},
     "output_type": "display_data"
    },
    {
     "name": "stderr",
     "output_type": "stream",
     "text": [
      "/Users/madsfrandsen/Documents/BSc_project/dataset_discretize.py:67: UserWarning: To copy construct from a tensor, it is recommended to use sourceTensor.clone().detach() or sourceTensor.clone().detach().requires_grad_(True), rather than torch.tensor(sourceTensor).\n",
      "  tmp_transition = torch.tensor(self.cumulated_transition[idx_step, :, :])\n",
      "/Users/madsfrandsen/Documents/BSc_project/dataset_discretize.py:68: UserWarning: To copy construct from a tensor, it is recommended to use sourceTensor.clone().detach() or sourceTensor.clone().detach().requires_grad_(True), rather than torch.tensor(sourceTensor).\n",
      "  tmp_transition_next = torch.tensor(\n",
      "/Users/madsfrandsen/Documents/BSc_project/dataset_discretize.py:67: UserWarning: To copy construct from a tensor, it is recommended to use sourceTensor.clone().detach() or sourceTensor.clone().detach().requires_grad_(True), rather than torch.tensor(sourceTensor).\n",
      "  tmp_transition = torch.tensor(self.cumulated_transition[idx_step, :, :])\n",
      "/Users/madsfrandsen/Documents/BSc_project/dataset_discretize.py:68: UserWarning: To copy construct from a tensor, it is recommended to use sourceTensor.clone().detach() or sourceTensor.clone().detach().requires_grad_(True), rather than torch.tensor(sourceTensor).\n",
      "  tmp_transition_next = torch.tensor(\n",
      "/Users/madsfrandsen/Documents/BSc_project/dataset_discretize.py:67: UserWarning: To copy construct from a tensor, it is recommended to use sourceTensor.clone().detach() or sourceTensor.clone().detach().requires_grad_(True), rather than torch.tensor(sourceTensor).\n",
      "  tmp_transition = torch.tensor(self.cumulated_transition[idx_step, :, :])\n",
      "/Users/madsfrandsen/Documents/BSc_project/dataset_discretize.py:67: UserWarning: To copy construct from a tensor, it is recommended to use sourceTensor.clone().detach() or sourceTensor.clone().detach().requires_grad_(True), rather than torch.tensor(sourceTensor).\n",
      "  tmp_transition = torch.tensor(self.cumulated_transition[idx_step, :, :])\n",
      "/Users/madsfrandsen/Documents/BSc_project/dataset_discretize.py:68: UserWarning: To copy construct from a tensor, it is recommended to use sourceTensor.clone().detach() or sourceTensor.clone().detach().requires_grad_(True), rather than torch.tensor(sourceTensor).\n",
      "  tmp_transition_next = torch.tensor(\n",
      "/Users/madsfrandsen/Documents/BSc_project/dataset_discretize.py:68: UserWarning: To copy construct from a tensor, it is recommended to use sourceTensor.clone().detach() or sourceTensor.clone().detach().requires_grad_(True), rather than torch.tensor(sourceTensor).\n",
      "  tmp_transition_next = torch.tensor(\n",
      "/Users/madsfrandsen/Documents/BSc_project/dataset_discretize.py:67: UserWarning: To copy construct from a tensor, it is recommended to use sourceTensor.clone().detach() or sourceTensor.clone().detach().requires_grad_(True), rather than torch.tensor(sourceTensor).\n",
      "  tmp_transition = torch.tensor(self.cumulated_transition[idx_step, :, :])\n",
      "/Users/madsfrandsen/Documents/BSc_project/dataset_discretize.py:67: UserWarning: To copy construct from a tensor, it is recommended to use sourceTensor.clone().detach() or sourceTensor.clone().detach().requires_grad_(True), rather than torch.tensor(sourceTensor).\n",
      "  tmp_transition = torch.tensor(self.cumulated_transition[idx_step, :, :])\n",
      "/Users/madsfrandsen/Documents/BSc_project/dataset_discretize.py:68: UserWarning: To copy construct from a tensor, it is recommended to use sourceTensor.clone().detach() or sourceTensor.clone().detach().requires_grad_(True), rather than torch.tensor(sourceTensor).\n",
      "  tmp_transition_next = torch.tensor(\n",
      "/Users/madsfrandsen/Documents/BSc_project/dataset_discretize.py:68: UserWarning: To copy construct from a tensor, it is recommended to use sourceTensor.clone().detach() or sourceTensor.clone().detach().requires_grad_(True), rather than torch.tensor(sourceTensor).\n",
      "  tmp_transition_next = torch.tensor(\n",
      "/Users/madsfrandsen/Documents/BSc_project/dataset_discretize.py:67: UserWarning: To copy construct from a tensor, it is recommended to use sourceTensor.clone().detach() or sourceTensor.clone().detach().requires_grad_(True), rather than torch.tensor(sourceTensor).\n",
      "  tmp_transition = torch.tensor(self.cumulated_transition[idx_step, :, :])\n",
      "/Users/madsfrandsen/Documents/BSc_project/dataset_discretize.py:67: UserWarning: To copy construct from a tensor, it is recommended to use sourceTensor.clone().detach() or sourceTensor.clone().detach().requires_grad_(True), rather than torch.tensor(sourceTensor).\n",
      "  tmp_transition = torch.tensor(self.cumulated_transition[idx_step, :, :])\n",
      "/Users/madsfrandsen/Documents/BSc_project/dataset_discretize.py:68: UserWarning: To copy construct from a tensor, it is recommended to use sourceTensor.clone().detach() or sourceTensor.clone().detach().requires_grad_(True), rather than torch.tensor(sourceTensor).\n",
      "  tmp_transition_next = torch.tensor(\n",
      "/Users/madsfrandsen/Documents/BSc_project/dataset_discretize.py:68: UserWarning: To copy construct from a tensor, it is recommended to use sourceTensor.clone().detach() or sourceTensor.clone().detach().requires_grad_(True), rather than torch.tensor(sourceTensor).\n",
      "  tmp_transition_next = torch.tensor(\n",
      "/Users/madsfrandsen/Documents/BSc_project/dataset_discretize.py:67: UserWarning: To copy construct from a tensor, it is recommended to use sourceTensor.clone().detach() or sourceTensor.clone().detach().requires_grad_(True), rather than torch.tensor(sourceTensor).\n",
      "  tmp_transition = torch.tensor(self.cumulated_transition[idx_step, :, :])\n",
      "/Users/madsfrandsen/Documents/BSc_project/dataset_discretize.py:67: UserWarning: To copy construct from a tensor, it is recommended to use sourceTensor.clone().detach() or sourceTensor.clone().detach().requires_grad_(True), rather than torch.tensor(sourceTensor).\n",
      "  tmp_transition = torch.tensor(self.cumulated_transition[idx_step, :, :])\n",
      "/Users/madsfrandsen/Documents/BSc_project/dataset_discretize.py:68: UserWarning: To copy construct from a tensor, it is recommended to use sourceTensor.clone().detach() or sourceTensor.clone().detach().requires_grad_(True), rather than torch.tensor(sourceTensor).\n",
      "  tmp_transition_next = torch.tensor(\n",
      "/Users/madsfrandsen/Documents/BSc_project/dataset_discretize.py:68: UserWarning: To copy construct from a tensor, it is recommended to use sourceTensor.clone().detach() or sourceTensor.clone().detach().requires_grad_(True), rather than torch.tensor(sourceTensor).\n",
      "  tmp_transition_next = torch.tensor(\n",
      "/Users/madsfrandsen/Documents/BSc_project/dataset_discretize.py:67: UserWarning: To copy construct from a tensor, it is recommended to use sourceTensor.clone().detach() or sourceTensor.clone().detach().requires_grad_(True), rather than torch.tensor(sourceTensor).\n",
      "  tmp_transition = torch.tensor(self.cumulated_transition[idx_step, :, :])\n",
      "/Users/madsfrandsen/Documents/BSc_project/dataset_discretize.py:67: UserWarning: To copy construct from a tensor, it is recommended to use sourceTensor.clone().detach() or sourceTensor.clone().detach().requires_grad_(True), rather than torch.tensor(sourceTensor).\n",
      "  tmp_transition = torch.tensor(self.cumulated_transition[idx_step, :, :])\n",
      "/Users/madsfrandsen/Documents/BSc_project/dataset_discretize.py:68: UserWarning: To copy construct from a tensor, it is recommended to use sourceTensor.clone().detach() or sourceTensor.clone().detach().requires_grad_(True), rather than torch.tensor(sourceTensor).\n",
      "  tmp_transition_next = torch.tensor(\n",
      "/Users/madsfrandsen/Documents/BSc_project/dataset_discretize.py:68: UserWarning: To copy construct from a tensor, it is recommended to use sourceTensor.clone().detach() or sourceTensor.clone().detach().requires_grad_(True), rather than torch.tensor(sourceTensor).\n",
      "  tmp_transition_next = torch.tensor(\n",
      "/Users/madsfrandsen/Documents/BSc_project/dataset_discretize.py:67: UserWarning: To copy construct from a tensor, it is recommended to use sourceTensor.clone().detach() or sourceTensor.clone().detach().requires_grad_(True), rather than torch.tensor(sourceTensor).\n",
      "  tmp_transition = torch.tensor(self.cumulated_transition[idx_step, :, :])\n",
      "/Users/madsfrandsen/Documents/BSc_project/dataset_discretize.py:68: UserWarning: To copy construct from a tensor, it is recommended to use sourceTensor.clone().detach() or sourceTensor.clone().detach().requires_grad_(True), rather than torch.tensor(sourceTensor).\n",
      "  tmp_transition_next = torch.tensor(\n",
      "/Users/madsfrandsen/Documents/BSc_project/dataset_discretize.py:67: UserWarning: To copy construct from a tensor, it is recommended to use sourceTensor.clone().detach() or sourceTensor.clone().detach().requires_grad_(True), rather than torch.tensor(sourceTensor).\n",
      "  tmp_transition = torch.tensor(self.cumulated_transition[idx_step, :, :])\n",
      "/Users/madsfrandsen/Documents/BSc_project/dataset_discretize.py:68: UserWarning: To copy construct from a tensor, it is recommended to use sourceTensor.clone().detach() or sourceTensor.clone().detach().requires_grad_(True), rather than torch.tensor(sourceTensor).\n",
      "  tmp_transition_next = torch.tensor(\n",
      "/Users/madsfrandsen/Documents/BSc_project/dataset_discretize.py:67: UserWarning: To copy construct from a tensor, it is recommended to use sourceTensor.clone().detach() or sourceTensor.clone().detach().requires_grad_(True), rather than torch.tensor(sourceTensor).\n",
      "  tmp_transition = torch.tensor(self.cumulated_transition[idx_step, :, :])\n",
      "/Users/madsfrandsen/Documents/BSc_project/dataset_discretize.py:68: UserWarning: To copy construct from a tensor, it is recommended to use sourceTensor.clone().detach() or sourceTensor.clone().detach().requires_grad_(True), rather than torch.tensor(sourceTensor).\n",
      "  tmp_transition_next = torch.tensor(\n",
      "/Users/madsfrandsen/Documents/BSc_project/dataset_discretize.py:67: UserWarning: To copy construct from a tensor, it is recommended to use sourceTensor.clone().detach() or sourceTensor.clone().detach().requires_grad_(True), rather than torch.tensor(sourceTensor).\n",
      "  tmp_transition = torch.tensor(self.cumulated_transition[idx_step, :, :])\n",
      "/Users/madsfrandsen/Documents/BSc_project/dataset_discretize.py:68: UserWarning: To copy construct from a tensor, it is recommended to use sourceTensor.clone().detach() or sourceTensor.clone().detach().requires_grad_(True), rather than torch.tensor(sourceTensor).\n",
      "  tmp_transition_next = torch.tensor(\n",
      "/Users/madsfrandsen/Documents/BSc_project/dataset_discretize.py:67: UserWarning: To copy construct from a tensor, it is recommended to use sourceTensor.clone().detach() or sourceTensor.clone().detach().requires_grad_(True), rather than torch.tensor(sourceTensor).\n",
      "  tmp_transition = torch.tensor(self.cumulated_transition[idx_step, :, :])\n",
      "/Users/madsfrandsen/Documents/BSc_project/dataset_discretize.py:67: UserWarning: To copy construct from a tensor, it is recommended to use sourceTensor.clone().detach() or sourceTensor.clone().detach().requires_grad_(True), rather than torch.tensor(sourceTensor).\n",
      "  tmp_transition = torch.tensor(self.cumulated_transition[idx_step, :, :])\n",
      "/Users/madsfrandsen/Documents/BSc_project/dataset_discretize.py:68: UserWarning: To copy construct from a tensor, it is recommended to use sourceTensor.clone().detach() or sourceTensor.clone().detach().requires_grad_(True), rather than torch.tensor(sourceTensor).\n",
      "  tmp_transition_next = torch.tensor(\n",
      "/Users/madsfrandsen/Documents/BSc_project/dataset_discretize.py:68: UserWarning: To copy construct from a tensor, it is recommended to use sourceTensor.clone().detach() or sourceTensor.clone().detach().requires_grad_(True), rather than torch.tensor(sourceTensor).\n",
      "  tmp_transition_next = torch.tensor(\n",
      "`Trainer.fit` stopped: `max_epochs=10` reached.\n"
     ]
    }
   ],
   "source": [
    "trainer.fit(model, loader)"
   ]
  },
  {
   "cell_type": "code",
   "execution_count": null,
   "metadata": {},
   "outputs": [],
   "source": []
  }
 ],
 "metadata": {
  "kernelspec": {
   "display_name": "venv",
   "language": "python",
   "name": "python3"
  },
  "language_info": {
   "codemirror_mode": {
    "name": "ipython",
    "version": 3
   },
   "file_extension": ".py",
   "mimetype": "text/x-python",
   "name": "python",
   "nbconvert_exporter": "python",
   "pygments_lexer": "ipython3",
   "version": "3.9.13"
  }
 },
 "nbformat": 4,
 "nbformat_minor": 2
}
